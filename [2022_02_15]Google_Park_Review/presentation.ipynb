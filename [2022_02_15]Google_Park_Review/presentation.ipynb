{
 "cells": [
  {
   "cell_type": "markdown",
   "metadata": {},
   "source": [
    "# 프로그램 사용 방법"
   ]
  },
  {
   "cell_type": "code",
   "execution_count": null,
   "metadata": {},
   "outputs": [],
   "source": [
    "# 사용 라이브러리들\n",
    "import os\n",
    "import numpy as np\n",
    "import pandas as pd\n",
    "import random\n",
    "import re\n",
    "import timeit\n",
    "import datetime\n",
    "import time\n",
    "\n",
    "import requests\n",
    "import json\n",
    "\n",
    "import asyncio\n",
    "from concurrent.futures import ThreadPoolExecutor\n",
    "\n",
    "from pykospacing import Spacing\n",
    "from googletrans import Translator"
   ]
  },
  {
   "cell_type": "markdown",
   "metadata": {},
   "source": [
    "## GoogleMap Crawling class 사용 방법"
   ]
  },
  {
   "cell_type": "code",
   "execution_count": null,
   "metadata": {},
   "outputs": [],
   "source": [
    "from v2_googlemap import GoogleMapReview_Crawler\n",
    "\n",
    "# 여의도 공원\n",
    "yeouido = 'https://www.google.co.kr/maps/preview/review/listentitiesreviews?authuser=0&hl=ko&gl=kr&pb=!1m2!1y3854130351592427969!2y1183578152943201358!2m2!1i0!2i10!3e2!4m5!3b1!4b1!5b1!6b1!7b1!5m2!1sHRK-YczUNovVmAXu4Y2oBg!7e81'\n",
    "# 중마루 공원\n",
    "jungmaru = 'https://www.google.co.kr/maps/preview/review/listentitiesreviews?authuser=0&hl=ko&gl=kr&pb=!1m2!1y3854130076605085461!2y4267646139674355142!2m2!1i0!2i10!3e2!4m5!3b1!4b1!5b1!6b1!7b1!5m2!1sOMa_Ya6yErCb4-EP4_iVmAM!7e81'\n",
    "# 영등포 문래공원\n",
    "yeongdeungpo = 'https://www.google.co.kr/maps/preview/review/listentitiesreviews?authuser=0&hl=ko&gl=kr&pb=!1m2!1y3854130152952927545!2y17858430781635199831!2m2!1i0!2i10!3e2!4m5!3b1!4b1!5b1!6b1!7b1!5m2!1sHRK-YczUNovVmAXu4Y2oBg!7e81'\n",
    "# 데이터 입력\n",
    "urls = {'jungmaru' : jungmaru, 'yeongdeungpo' : yeongdeungpo, 'yeouido' : yeouido}\n",
    "urls = {'yeouido' : yeouido}\n",
    "# 클래스 인스턴스 생성\n",
    "crawling_start = GoogleMapReview_Crawler()\n",
    "# 크롤링 시작\n",
    "crawling_start.run(park_names_urls = urls)"
   ]
  },
  {
   "cell_type": "markdown",
   "metadata": {},
   "source": [
    "## Pre Processing class 사용 방법"
   ]
  },
  {
   "cell_type": "code",
   "execution_count": null,
   "metadata": {},
   "outputs": [],
   "source": [
    "from v1_nlp import NLP\n",
    "\n",
    "# 데이터 폴더 경로 \n",
    "dir_path = './datasets/before/'\n",
    "# today_date = str(datetime.date.today())\n",
    "today_date = '2022-01-03'\n",
    "dir_path = os.path.join(dir_path, today_date)\n",
    "\n",
    "# 클래스 인스턴스 생성\n",
    "nlp = NLP(dir_path)\n",
    "# 불용어 처리, 시소러스 처리, 형태소 분석 후 CF 계산\n",
    "# asyncio.run(nlp.word_count_and_save())\n",
    "\n",
    "# 데이터 읽고 각각 처리결과 반환\n",
    "# data = nlp.data_read_and_preprocessing('datasets/before/2022-01-03/songdo_2022-01-03.csv')\n",
    "# data = nlp.text_mining(data)\n",
    "# data = nlp.drop_stopwords(data)\n",
    "# data = nlp.change2thesaurus(data)\n"
   ]
  },
  {
   "cell_type": "markdown",
   "metadata": {},
   "source": [
    "## Stopwords_Thesaurus class 사용 방법"
   ]
  },
  {
   "cell_type": "code",
   "execution_count": null,
   "metadata": {},
   "outputs": [],
   "source": [
    "from pre_processing import Pre_Processing\n",
    "\n",
    "# 클래스 인스턴스 생성\n",
    "stopwords_thesaurus = Pre_Processing()\n",
    "\n",
    "# 인풋 할 데이터 입력\n",
    "# data = ['공원', 'ㅂㄹ', '19', 'ㄱㄱㄱㅂㄱㅂㄲㅂㄲ', 'ㅠㅠ', 'ㅏㅏ']\n",
    "data = {'좋아요' : ['좋습니다', '좋았어요', '좋은']}\n",
    "# data = {'좋아요' : ['좋았습니다']}\n",
    "# data = {'좋아요' : ['좋음']}\n",
    "# data = {'있습니다' : ['있는', '있어']}\n",
    "# data = {'있습니다' : ['있는', '있어', '있어요']}\n",
    "# data = {'제주' : ['제주도']}\n",
    "\n",
    "# 데이터 저장\n",
    "stopwords_thesaurus.save2csv(data, )\n"
   ]
  }
 ],
 "metadata": {
  "language_info": {
   "name": "python"
  },
  "orig_nbformat": 4
 },
 "nbformat": 4,
 "nbformat_minor": 2
}
